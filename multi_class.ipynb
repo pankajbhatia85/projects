{
  "nbformat": 4,
  "nbformat_minor": 0,
  "metadata": {
    "colab": {
      "provenance": [],
      "gpuType": "T4"
    },
    "kernelspec": {
      "name": "python3",
      "display_name": "Python 3"
    },
    "language_info": {
      "name": "python"
    },
    "accelerator": "GPU",
    "widgets": {
      "application/vnd.jupyter.widget-state+json": {
        "08688764d0544fbcbbdf809c370d121e": {
          "model_module": "@jupyter-widgets/controls",
          "model_name": "HBoxModel",
          "model_module_version": "1.5.0",
          "state": {
            "_dom_classes": [],
            "_model_module": "@jupyter-widgets/controls",
            "_model_module_version": "1.5.0",
            "_model_name": "HBoxModel",
            "_view_count": null,
            "_view_module": "@jupyter-widgets/controls",
            "_view_module_version": "1.5.0",
            "_view_name": "HBoxView",
            "box_style": "",
            "children": [
              "IPY_MODEL_0778d3b15592487c8f619805c085b22c",
              "IPY_MODEL_7f68b8a3427f4bceb8edb591e2675a8a",
              "IPY_MODEL_12e45023861c46db9c24494cd54808b4"
            ],
            "layout": "IPY_MODEL_8fab5d2511a146e794f5b136434b8e5b"
          }
        },
        "0778d3b15592487c8f619805c085b22c": {
          "model_module": "@jupyter-widgets/controls",
          "model_name": "HTMLModel",
          "model_module_version": "1.5.0",
          "state": {
            "_dom_classes": [],
            "_model_module": "@jupyter-widgets/controls",
            "_model_module_version": "1.5.0",
            "_model_name": "HTMLModel",
            "_view_count": null,
            "_view_module": "@jupyter-widgets/controls",
            "_view_module_version": "1.5.0",
            "_view_name": "HTMLView",
            "description": "",
            "description_tooltip": null,
            "layout": "IPY_MODEL_5b268a377d0a4f6dbea65d75675bc8f9",
            "placeholder": "​",
            "style": "IPY_MODEL_21fce662dd5241a18a0f65626d2fa325",
            "value": ""
          }
        },
        "7f68b8a3427f4bceb8edb591e2675a8a": {
          "model_module": "@jupyter-widgets/controls",
          "model_name": "FloatProgressModel",
          "model_module_version": "1.5.0",
          "state": {
            "_dom_classes": [],
            "_model_module": "@jupyter-widgets/controls",
            "_model_module_version": "1.5.0",
            "_model_name": "FloatProgressModel",
            "_view_count": null,
            "_view_module": "@jupyter-widgets/controls",
            "_view_module_version": "1.5.0",
            "_view_name": "ProgressView",
            "bar_style": "success",
            "description": "",
            "description_tooltip": null,
            "layout": "IPY_MODEL_6903802a1e454279bd5a731a9cd1836b",
            "max": 1,
            "min": 0,
            "orientation": "horizontal",
            "style": "IPY_MODEL_585a5b1d64bf4051b649219a3a29fde5",
            "value": 1
          }
        },
        "12e45023861c46db9c24494cd54808b4": {
          "model_module": "@jupyter-widgets/controls",
          "model_name": "HTMLModel",
          "model_module_version": "1.5.0",
          "state": {
            "_dom_classes": [],
            "_model_module": "@jupyter-widgets/controls",
            "_model_module_version": "1.5.0",
            "_model_name": "HTMLModel",
            "_view_count": null,
            "_view_module": "@jupyter-widgets/controls",
            "_view_module_version": "1.5.0",
            "_view_name": "HTMLView",
            "description": "",
            "description_tooltip": null,
            "layout": "IPY_MODEL_f3d370d5078445a89fc42fb87b2888db",
            "placeholder": "​",
            "style": "IPY_MODEL_a5b6bdc5e87542da9875b452ac914459",
            "value": " 32500/? [00:45&lt;00:00, 1265.09it/s]"
          }
        },
        "8fab5d2511a146e794f5b136434b8e5b": {
          "model_module": "@jupyter-widgets/base",
          "model_name": "LayoutModel",
          "model_module_version": "1.2.0",
          "state": {
            "_model_module": "@jupyter-widgets/base",
            "_model_module_version": "1.2.0",
            "_model_name": "LayoutModel",
            "_view_count": null,
            "_view_module": "@jupyter-widgets/base",
            "_view_module_version": "1.2.0",
            "_view_name": "LayoutView",
            "align_content": null,
            "align_items": null,
            "align_self": null,
            "border": null,
            "bottom": null,
            "display": null,
            "flex": null,
            "flex_flow": null,
            "grid_area": null,
            "grid_auto_columns": null,
            "grid_auto_flow": null,
            "grid_auto_rows": null,
            "grid_column": null,
            "grid_gap": null,
            "grid_row": null,
            "grid_template_areas": null,
            "grid_template_columns": null,
            "grid_template_rows": null,
            "height": null,
            "justify_content": null,
            "justify_items": null,
            "left": null,
            "margin": null,
            "max_height": null,
            "max_width": null,
            "min_height": null,
            "min_width": null,
            "object_fit": null,
            "object_position": null,
            "order": null,
            "overflow": null,
            "overflow_x": null,
            "overflow_y": null,
            "padding": null,
            "right": null,
            "top": null,
            "visibility": null,
            "width": null
          }
        },
        "5b268a377d0a4f6dbea65d75675bc8f9": {
          "model_module": "@jupyter-widgets/base",
          "model_name": "LayoutModel",
          "model_module_version": "1.2.0",
          "state": {
            "_model_module": "@jupyter-widgets/base",
            "_model_module_version": "1.2.0",
            "_model_name": "LayoutModel",
            "_view_count": null,
            "_view_module": "@jupyter-widgets/base",
            "_view_module_version": "1.2.0",
            "_view_name": "LayoutView",
            "align_content": null,
            "align_items": null,
            "align_self": null,
            "border": null,
            "bottom": null,
            "display": null,
            "flex": null,
            "flex_flow": null,
            "grid_area": null,
            "grid_auto_columns": null,
            "grid_auto_flow": null,
            "grid_auto_rows": null,
            "grid_column": null,
            "grid_gap": null,
            "grid_row": null,
            "grid_template_areas": null,
            "grid_template_columns": null,
            "grid_template_rows": null,
            "height": null,
            "justify_content": null,
            "justify_items": null,
            "left": null,
            "margin": null,
            "max_height": null,
            "max_width": null,
            "min_height": null,
            "min_width": null,
            "object_fit": null,
            "object_position": null,
            "order": null,
            "overflow": null,
            "overflow_x": null,
            "overflow_y": null,
            "padding": null,
            "right": null,
            "top": null,
            "visibility": null,
            "width": null
          }
        },
        "21fce662dd5241a18a0f65626d2fa325": {
          "model_module": "@jupyter-widgets/controls",
          "model_name": "DescriptionStyleModel",
          "model_module_version": "1.5.0",
          "state": {
            "_model_module": "@jupyter-widgets/controls",
            "_model_module_version": "1.5.0",
            "_model_name": "DescriptionStyleModel",
            "_view_count": null,
            "_view_module": "@jupyter-widgets/base",
            "_view_module_version": "1.2.0",
            "_view_name": "StyleView",
            "description_width": ""
          }
        },
        "6903802a1e454279bd5a731a9cd1836b": {
          "model_module": "@jupyter-widgets/base",
          "model_name": "LayoutModel",
          "model_module_version": "1.2.0",
          "state": {
            "_model_module": "@jupyter-widgets/base",
            "_model_module_version": "1.2.0",
            "_model_name": "LayoutModel",
            "_view_count": null,
            "_view_module": "@jupyter-widgets/base",
            "_view_module_version": "1.2.0",
            "_view_name": "LayoutView",
            "align_content": null,
            "align_items": null,
            "align_self": null,
            "border": null,
            "bottom": null,
            "display": null,
            "flex": null,
            "flex_flow": null,
            "grid_area": null,
            "grid_auto_columns": null,
            "grid_auto_flow": null,
            "grid_auto_rows": null,
            "grid_column": null,
            "grid_gap": null,
            "grid_row": null,
            "grid_template_areas": null,
            "grid_template_columns": null,
            "grid_template_rows": null,
            "height": null,
            "justify_content": null,
            "justify_items": null,
            "left": null,
            "margin": null,
            "max_height": null,
            "max_width": null,
            "min_height": null,
            "min_width": null,
            "object_fit": null,
            "object_position": null,
            "order": null,
            "overflow": null,
            "overflow_x": null,
            "overflow_y": null,
            "padding": null,
            "right": null,
            "top": null,
            "visibility": null,
            "width": "20px"
          }
        },
        "585a5b1d64bf4051b649219a3a29fde5": {
          "model_module": "@jupyter-widgets/controls",
          "model_name": "ProgressStyleModel",
          "model_module_version": "1.5.0",
          "state": {
            "_model_module": "@jupyter-widgets/controls",
            "_model_module_version": "1.5.0",
            "_model_name": "ProgressStyleModel",
            "_view_count": null,
            "_view_module": "@jupyter-widgets/base",
            "_view_module_version": "1.2.0",
            "_view_name": "StyleView",
            "bar_color": null,
            "description_width": ""
          }
        },
        "f3d370d5078445a89fc42fb87b2888db": {
          "model_module": "@jupyter-widgets/base",
          "model_name": "LayoutModel",
          "model_module_version": "1.2.0",
          "state": {
            "_model_module": "@jupyter-widgets/base",
            "_model_module_version": "1.2.0",
            "_model_name": "LayoutModel",
            "_view_count": null,
            "_view_module": "@jupyter-widgets/base",
            "_view_module_version": "1.2.0",
            "_view_name": "LayoutView",
            "align_content": null,
            "align_items": null,
            "align_self": null,
            "border": null,
            "bottom": null,
            "display": null,
            "flex": null,
            "flex_flow": null,
            "grid_area": null,
            "grid_auto_columns": null,
            "grid_auto_flow": null,
            "grid_auto_rows": null,
            "grid_column": null,
            "grid_gap": null,
            "grid_row": null,
            "grid_template_areas": null,
            "grid_template_columns": null,
            "grid_template_rows": null,
            "height": null,
            "justify_content": null,
            "justify_items": null,
            "left": null,
            "margin": null,
            "max_height": null,
            "max_width": null,
            "min_height": null,
            "min_width": null,
            "object_fit": null,
            "object_position": null,
            "order": null,
            "overflow": null,
            "overflow_x": null,
            "overflow_y": null,
            "padding": null,
            "right": null,
            "top": null,
            "visibility": null,
            "width": null
          }
        },
        "a5b6bdc5e87542da9875b452ac914459": {
          "model_module": "@jupyter-widgets/controls",
          "model_name": "DescriptionStyleModel",
          "model_module_version": "1.5.0",
          "state": {
            "_model_module": "@jupyter-widgets/controls",
            "_model_module_version": "1.5.0",
            "_model_name": "DescriptionStyleModel",
            "_view_count": null,
            "_view_module": "@jupyter-widgets/base",
            "_view_module_version": "1.2.0",
            "_view_name": "StyleView",
            "description_width": ""
          }
        }
      }
    },
    "gpuClass": "standard"
  },
  "cells": [
    {
      "cell_type": "code",
      "metadata": {
        "id": "_yvJ3Fi-U3CB",
        "outputId": "355ad898-d746-4af5-ead7-ce203c20d911",
        "colab": {
          "base_uri": "https://localhost:8080/"
        }
      },
      "source": [
        "!pip install transformers"
      ],
      "execution_count": 1,
      "outputs": [
        {
          "output_type": "stream",
          "name": "stdout",
          "text": [
            "Looking in indexes: https://pypi.org/simple, https://us-python.pkg.dev/colab-wheels/public/simple/\n",
            "Requirement already satisfied: transformers in /usr/local/lib/python3.10/dist-packages (4.28.1)\n",
            "Requirement already satisfied: filelock in /usr/local/lib/python3.10/dist-packages (from transformers) (3.12.0)\n",
            "Requirement already satisfied: huggingface-hub<1.0,>=0.11.0 in /usr/local/lib/python3.10/dist-packages (from transformers) (0.14.1)\n",
            "Requirement already satisfied: numpy>=1.17 in /usr/local/lib/python3.10/dist-packages (from transformers) (1.22.4)\n",
            "Requirement already satisfied: packaging>=20.0 in /usr/local/lib/python3.10/dist-packages (from transformers) (23.1)\n",
            "Requirement already satisfied: pyyaml>=5.1 in /usr/local/lib/python3.10/dist-packages (from transformers) (6.0)\n",
            "Requirement already satisfied: regex!=2019.12.17 in /usr/local/lib/python3.10/dist-packages (from transformers) (2022.10.31)\n",
            "Requirement already satisfied: requests in /usr/local/lib/python3.10/dist-packages (from transformers) (2.27.1)\n",
            "Requirement already satisfied: tokenizers!=0.11.3,<0.14,>=0.11.1 in /usr/local/lib/python3.10/dist-packages (from transformers) (0.13.3)\n",
            "Requirement already satisfied: tqdm>=4.27 in /usr/local/lib/python3.10/dist-packages (from transformers) (4.65.0)\n",
            "Requirement already satisfied: fsspec in /usr/local/lib/python3.10/dist-packages (from huggingface-hub<1.0,>=0.11.0->transformers) (2023.4.0)\n",
            "Requirement already satisfied: typing-extensions>=3.7.4.3 in /usr/local/lib/python3.10/dist-packages (from huggingface-hub<1.0,>=0.11.0->transformers) (4.5.0)\n",
            "Requirement already satisfied: urllib3<1.27,>=1.21.1 in /usr/local/lib/python3.10/dist-packages (from requests->transformers) (1.26.15)\n",
            "Requirement already satisfied: certifi>=2017.4.17 in /usr/local/lib/python3.10/dist-packages (from requests->transformers) (2022.12.7)\n",
            "Requirement already satisfied: charset-normalizer~=2.0.0 in /usr/local/lib/python3.10/dist-packages (from requests->transformers) (2.0.12)\n",
            "Requirement already satisfied: idna<4,>=2.5 in /usr/local/lib/python3.10/dist-packages (from requests->transformers) (3.4)\n"
          ]
        }
      ]
    },
    {
      "cell_type": "code",
      "metadata": {
        "id": "_aNWItwlVXDE"
      },
      "source": [
        "import pandas as pd\n",
        "import numpy as np\n",
        "from tqdm.auto import tqdm\n",
        "import tensorflow as tf\n",
        "from transformers import DistilBertTokenizerFast,DistilBertForTokenClassification"
      ],
      "execution_count": 2,
      "outputs": []
    },
    {
      "cell_type": "code",
      "source": [
        "from google.colab import drive\n",
        "drive.mount('/content/drive')"
      ],
      "metadata": {
        "id": "0rlpwM3OSMAI",
        "outputId": "48152955-aec7-4153-f7df-89be05559573",
        "colab": {
          "base_uri": "https://localhost:8080/"
        }
      },
      "execution_count": 3,
      "outputs": [
        {
          "output_type": "stream",
          "name": "stdout",
          "text": [
            "Drive already mounted at /content/drive; to attempt to forcibly remount, call drive.mount(\"/content/drive\", force_remount=True).\n"
          ]
        }
      ]
    },
    {
      "cell_type": "code",
      "source": [
        "import zipfile\n",
        "import os"
      ],
      "metadata": {
        "id": "dGPsdxbLSYO6"
      },
      "execution_count": 4,
      "outputs": []
    },
    {
      "cell_type": "code",
      "source": [
        "os.chdir('/content/drive/MyDrive/Colab Notebooks/Yelp-dataset')"
      ],
      "metadata": {
        "id": "Gr9PejwMS7M6"
      },
      "execution_count": 5,
      "outputs": []
    },
    {
      "cell_type": "code",
      "source": [
        "import zipfile\n",
        "zip_ref=zipfile.ZipFile('/content/drive/MyDrive/Colab Notebooks/Yelp-dataset/Yelp.zip','r')\n",
        "zip_ref.extractall('Yelp-dataset')\n",
        "zip_ref.close()"
      ],
      "metadata": {
        "id": "OZU10dDCTRoB"
      },
      "execution_count": 6,
      "outputs": []
    },
    {
      "cell_type": "code",
      "source": [
        "train_path='/content/drive/MyDrive/Colab Notebooks/Yelp-dataset/Yelp-dataset/yelp_review_fine-grained_5_classes_csv/train.csv'\n",
        "test_path='/content/drive/MyDrive/Colab Notebooks/Yelp-dataset/Yelp-dataset/yelp_review_fine-grained_5_classes_csv/test.csv'"
      ],
      "metadata": {
        "id": "2omo8hGFT2uN"
      },
      "execution_count": 7,
      "outputs": []
    },
    {
      "cell_type": "code",
      "source": [
        "train_df=pd.read_csv(train_path)\n",
        "test_df=pd.read_csv(test_path)\n",
        "train_df.head()"
      ],
      "metadata": {
        "id": "DFp5u5UOUDYV",
        "outputId": "14ada10f-3b32-404d-8307-818b929222cf",
        "colab": {
          "base_uri": "https://localhost:8080/",
          "height": 206
        }
      },
      "execution_count": 8,
      "outputs": [
        {
          "output_type": "execute_result",
          "data": {
            "text/plain": [
              "   class_index                                        review_text\n",
              "0            5  dr. goldberg offers everything i look for in a...\n",
              "1            2  Unfortunately, the frustration of being Dr. Go...\n",
              "2            4  Been going to Dr. Goldberg for over 10 years. ...\n",
              "3            4  Got a letter in the mail last week that said D...\n",
              "4            1  I don't know what Dr. Goldberg was like before..."
            ],
            "text/html": [
              "\n",
              "  <div id=\"df-dece6853-6f06-4aa2-87fe-059531306682\">\n",
              "    <div class=\"colab-df-container\">\n",
              "      <div>\n",
              "<style scoped>\n",
              "    .dataframe tbody tr th:only-of-type {\n",
              "        vertical-align: middle;\n",
              "    }\n",
              "\n",
              "    .dataframe tbody tr th {\n",
              "        vertical-align: top;\n",
              "    }\n",
              "\n",
              "    .dataframe thead th {\n",
              "        text-align: right;\n",
              "    }\n",
              "</style>\n",
              "<table border=\"1\" class=\"dataframe\">\n",
              "  <thead>\n",
              "    <tr style=\"text-align: right;\">\n",
              "      <th></th>\n",
              "      <th>class_index</th>\n",
              "      <th>review_text</th>\n",
              "    </tr>\n",
              "  </thead>\n",
              "  <tbody>\n",
              "    <tr>\n",
              "      <th>0</th>\n",
              "      <td>5</td>\n",
              "      <td>dr. goldberg offers everything i look for in a...</td>\n",
              "    </tr>\n",
              "    <tr>\n",
              "      <th>1</th>\n",
              "      <td>2</td>\n",
              "      <td>Unfortunately, the frustration of being Dr. Go...</td>\n",
              "    </tr>\n",
              "    <tr>\n",
              "      <th>2</th>\n",
              "      <td>4</td>\n",
              "      <td>Been going to Dr. Goldberg for over 10 years. ...</td>\n",
              "    </tr>\n",
              "    <tr>\n",
              "      <th>3</th>\n",
              "      <td>4</td>\n",
              "      <td>Got a letter in the mail last week that said D...</td>\n",
              "    </tr>\n",
              "    <tr>\n",
              "      <th>4</th>\n",
              "      <td>1</td>\n",
              "      <td>I don't know what Dr. Goldberg was like before...</td>\n",
              "    </tr>\n",
              "  </tbody>\n",
              "</table>\n",
              "</div>\n",
              "      <button class=\"colab-df-convert\" onclick=\"convertToInteractive('df-dece6853-6f06-4aa2-87fe-059531306682')\"\n",
              "              title=\"Convert this dataframe to an interactive table.\"\n",
              "              style=\"display:none;\">\n",
              "        \n",
              "  <svg xmlns=\"http://www.w3.org/2000/svg\" height=\"24px\"viewBox=\"0 0 24 24\"\n",
              "       width=\"24px\">\n",
              "    <path d=\"M0 0h24v24H0V0z\" fill=\"none\"/>\n",
              "    <path d=\"M18.56 5.44l.94 2.06.94-2.06 2.06-.94-2.06-.94-.94-2.06-.94 2.06-2.06.94zm-11 1L8.5 8.5l.94-2.06 2.06-.94-2.06-.94L8.5 2.5l-.94 2.06-2.06.94zm10 10l.94 2.06.94-2.06 2.06-.94-2.06-.94-.94-2.06-.94 2.06-2.06.94z\"/><path d=\"M17.41 7.96l-1.37-1.37c-.4-.4-.92-.59-1.43-.59-.52 0-1.04.2-1.43.59L10.3 9.45l-7.72 7.72c-.78.78-.78 2.05 0 2.83L4 21.41c.39.39.9.59 1.41.59.51 0 1.02-.2 1.41-.59l7.78-7.78 2.81-2.81c.8-.78.8-2.07 0-2.86zM5.41 20L4 18.59l7.72-7.72 1.47 1.35L5.41 20z\"/>\n",
              "  </svg>\n",
              "      </button>\n",
              "      \n",
              "  <style>\n",
              "    .colab-df-container {\n",
              "      display:flex;\n",
              "      flex-wrap:wrap;\n",
              "      gap: 12px;\n",
              "    }\n",
              "\n",
              "    .colab-df-convert {\n",
              "      background-color: #E8F0FE;\n",
              "      border: none;\n",
              "      border-radius: 50%;\n",
              "      cursor: pointer;\n",
              "      display: none;\n",
              "      fill: #1967D2;\n",
              "      height: 32px;\n",
              "      padding: 0 0 0 0;\n",
              "      width: 32px;\n",
              "    }\n",
              "\n",
              "    .colab-df-convert:hover {\n",
              "      background-color: #E2EBFA;\n",
              "      box-shadow: 0px 1px 2px rgba(60, 64, 67, 0.3), 0px 1px 3px 1px rgba(60, 64, 67, 0.15);\n",
              "      fill: #174EA6;\n",
              "    }\n",
              "\n",
              "    [theme=dark] .colab-df-convert {\n",
              "      background-color: #3B4455;\n",
              "      fill: #D2E3FC;\n",
              "    }\n",
              "\n",
              "    [theme=dark] .colab-df-convert:hover {\n",
              "      background-color: #434B5C;\n",
              "      box-shadow: 0px 1px 3px 1px rgba(0, 0, 0, 0.15);\n",
              "      filter: drop-shadow(0px 1px 2px rgba(0, 0, 0, 0.3));\n",
              "      fill: #FFFFFF;\n",
              "    }\n",
              "  </style>\n",
              "\n",
              "      <script>\n",
              "        const buttonEl =\n",
              "          document.querySelector('#df-dece6853-6f06-4aa2-87fe-059531306682 button.colab-df-convert');\n",
              "        buttonEl.style.display =\n",
              "          google.colab.kernel.accessAllowed ? 'block' : 'none';\n",
              "\n",
              "        async function convertToInteractive(key) {\n",
              "          const element = document.querySelector('#df-dece6853-6f06-4aa2-87fe-059531306682');\n",
              "          const dataTable =\n",
              "            await google.colab.kernel.invokeFunction('convertToInteractive',\n",
              "                                                     [key], {});\n",
              "          if (!dataTable) return;\n",
              "\n",
              "          const docLinkHtml = 'Like what you see? Visit the ' +\n",
              "            '<a target=\"_blank\" href=https://colab.research.google.com/notebooks/data_table.ipynb>data table notebook</a>'\n",
              "            + ' to learn more about interactive tables.';\n",
              "          element.innerHTML = '';\n",
              "          dataTable['output_type'] = 'display_data';\n",
              "          await google.colab.output.renderOutput(dataTable, element);\n",
              "          const docLink = document.createElement('div');\n",
              "          docLink.innerHTML = docLinkHtml;\n",
              "          element.appendChild(docLink);\n",
              "        }\n",
              "      </script>\n",
              "    </div>\n",
              "  </div>\n",
              "  "
            ]
          },
          "metadata": {},
          "execution_count": 8
        }
      ]
    },
    {
      "cell_type": "markdown",
      "metadata": {
        "id": "o5KlWWtynZib"
      },
      "source": [
        "### **Data Preparation**"
      ]
    },
    {
      "cell_type": "code",
      "source": [
        "train_df=train_df.groupby(by='class_index',group_keys=False).apply(lambda x: x.sample(frac=0.05, random_state=0))"
      ],
      "metadata": {
        "id": "JmJfiIyUVeIz"
      },
      "execution_count": 9,
      "outputs": []
    },
    {
      "cell_type": "code",
      "source": [
        "train_df.shape"
      ],
      "metadata": {
        "id": "xPcdWb-uB1dS",
        "outputId": "1a80f769-1beb-4de6-caf3-0fec66988557",
        "colab": {
          "base_uri": "https://localhost:8080/"
        }
      },
      "execution_count": 10,
      "outputs": [
        {
          "output_type": "execute_result",
          "data": {
            "text/plain": [
              "(32500, 2)"
            ]
          },
          "metadata": {},
          "execution_count": 10
        }
      ]
    },
    {
      "cell_type": "code",
      "source": [
        "bool=train_df.isnull().values.any()\n",
        "if bool:\n",
        "  print('There are some missing values')\n",
        "else:\n",
        "  print('No missing Values')\n",
        "bool.sum()"
      ],
      "metadata": {
        "id": "PrCjptfSV7cO",
        "outputId": "9ecbbeb1-135b-4033-99e7-3ee770d422d3",
        "colab": {
          "base_uri": "https://localhost:8080/"
        }
      },
      "execution_count": 11,
      "outputs": [
        {
          "output_type": "stream",
          "name": "stdout",
          "text": [
            "No missing Values\n"
          ]
        },
        {
          "output_type": "execute_result",
          "data": {
            "text/plain": [
              "0"
            ]
          },
          "metadata": {},
          "execution_count": 11
        }
      ]
    },
    {
      "cell_type": "code",
      "source": [
        "train_df['class_index'].value_counts()"
      ],
      "metadata": {
        "id": "3iN_HbDOV7Y4",
        "outputId": "d062c895-8017-4206-a535-9b89f92ebb9f",
        "colab": {
          "base_uri": "https://localhost:8080/"
        }
      },
      "execution_count": 12,
      "outputs": [
        {
          "output_type": "execute_result",
          "data": {
            "text/plain": [
              "1    6500\n",
              "2    6500\n",
              "3    6500\n",
              "4    6500\n",
              "5    6500\n",
              "Name: class_index, dtype: int64"
            ]
          },
          "metadata": {},
          "execution_count": 12
        }
      ]
    },
    {
      "cell_type": "code",
      "source": [
        "test_df.shape"
      ],
      "metadata": {
        "id": "8fA9MHv0gv9L",
        "outputId": "5e089595-b958-43bc-95f1-03caac8ed129",
        "colab": {
          "base_uri": "https://localhost:8080/"
        }
      },
      "execution_count": 13,
      "outputs": [
        {
          "output_type": "execute_result",
          "data": {
            "text/plain": [
              "(50000, 2)"
            ]
          },
          "metadata": {},
          "execution_count": 13
        }
      ]
    },
    {
      "cell_type": "code",
      "source": [
        "stars=['*','**','***','****','*****']"
      ],
      "metadata": {
        "id": "EkhnR5wFV7Wo"
      },
      "execution_count": 14,
      "outputs": []
    },
    {
      "cell_type": "code",
      "source": [
        "texts=[]\n",
        "for i in range(5):\n",
        "  texts.append(train_df[train_df['class_index']==i+1]['review_text'].reset_index())\n",
        "  texts[i].drop(['index'],inplace=True,axis=1)\n"
      ],
      "metadata": {
        "id": "HpjSt_DEYPLR"
      },
      "execution_count": 15,
      "outputs": []
    },
    {
      "cell_type": "code",
      "source": [
        "import matplotlib.pyplot as plt\n",
        "fig1, ax1 = plt.subplots()\n",
        "sizes = [len(texts[i]) for i in range(5)]\n",
        "ax1.pie(sizes,labels=stars, autopct='%1.1f%%',\n",
        "        shadow=True, startangle=90)\n",
        "ax1.axis('equal')  # Equal aspect ratio ensures that pie is drawn as a circle.\n",
        "plt.figure( figsize=(15,10) )\n",
        "plt.show()"
      ],
      "metadata": {
        "id": "AQs_FkWaYPIA",
        "outputId": "24d1d00f-a658-46b2-bdd2-d5fcf12fccd4",
        "colab": {
          "base_uri": "https://localhost:8080/",
          "height": 430
        }
      },
      "execution_count": 16,
      "outputs": [
        {
          "output_type": "display_data",
          "data": {
            "text/plain": [
              "<Figure size 640x480 with 1 Axes>"
            ],
            "image/png": "[encoded data removed]"
          },
          "metadata": {}
        },
        {
          "output_type": "display_data",
          "data": {
            "text/plain": [
              "<Figure size 1500x1000 with 0 Axes>"
            ]
          },
          "metadata": {}
        }
      ]
    },
    {
      "cell_type": "code",
      "source": [
        "for i in range(0,5):\n",
        "    print('\\033[1m{} star rewiew \\033[0m \\n'.format(i+1))\n",
        "    print(texts[i]['review_text'][1], '\\n')"
      ],
      "metadata": {
        "id": "l-NT1MTOYPE6",
        "outputId": "7dfbde7f-8951-46e4-83f1-983fba5a8db0",
        "colab": {
          "base_uri": "https://localhost:8080/"
        }
      },
      "execution_count": 17,
      "outputs": [
        {
          "output_type": "stream",
          "name": "stdout",
          "text": [
            "\u001b[1m1 star rewiew \u001b[0m \n",
            "\n",
            "This place was the worst place I ever went to. I took my laptop in because it would not boot. I am a patient person so I gave them two weeks before calling and checking in. I was told they needed another week. So I called a week and a half later and was told they had no record of my laptop!! After sitting on the phone with the lady, she found my laptop (unorganized much?) She said someone would call me soon with information on it. No one called. Basically two months after taking it in, I went into the store and demanded my laptop. It was in the back somewhere buried but taken apart. Definitely not fixed at all. He tried to convince me to leave it because it was dangerous for the laptop to be handled dismantled, but I was having none of it. They even had the nerve to charge me! I paid the fee for the quote because it was the only way to get my laptop back.\\n\\nBTW, I am referring to the place in MONONA, just because my profile said I was in Arizona for awhile does not mean that I did not go to this store. Wow people. \n",
            "\n",
            "\u001b[1m2 star rewiew \u001b[0m \n",
            "\n",
            "We ordered kids meal, jr whopper, whopper & chicken club. We had to park? K? Food was fresh but I know what they were doing, they are trying to trick the timer and speed of service. We were the ONLY car. Annoying. \n",
            "\n",
            "\u001b[1m3 star rewiew \u001b[0m \n",
            "\n",
            "If not for the out-of-this-world carnitas tacos (yay for pork rinds!) I think I would have given this place only 2 stars.  It advertises itself as \\\"chinese/mexican fusion\\\", but the menu is really just split up into various mexican dishes and chinese dishes (mostly of the dim sum variety). As an overall note, I think that the Mexican dishes were much tastier than the chinese items, so if you are wrestling b/w the two, I would go with Mexican. Here's what we tried:\\n\\nTACOS\\nCarnitas - yum yum yum.  Definitely order this if you order nothing else.  And get two, so that you won't have to share. A+\\n\\nViva china - this is a kumamoto oyster/beef tendon/sichuan peppercorn sauce taco.  The combo of the tendon and oyster was underwhelming, and if you really love that peppercorn taste, you're not going to find much of it here. C-\\n\\nBarbacoa - we ordered this because it came with \\\"cactus paddle\\\".  Still have no idea what cactus paddle is, but it's an awesome name!  The beef was alright, though a bit salty, and the cactus unfortunately didn't really taste like anything at all. C-\\n\\nfried fish taco - the fish was fried nicely, and I liked the pickled onions that came with it, but it was close to 7 bucks for two tiny tacos and pinky sized pieces of fish, so probably wouldn't order it again.  B-\\n\\nCHINESE\\n\\nFire Phoenix - This was pretty much a variation of popcorn chicken, with pork rinds on the side.The sichuan peppercorn salt was really good, and fried chicken never tastes bad when it's fres, but there really wasn't anything that special about this dish.  C\\n\\nMEXICAN\\n\\nTuna ceviche - Comes on a bed of ice and looks delectable.  Tastes pretty a-ok too. I think they put soy sauce in here, which gives it a nice depth of flavor.  A-\\n\\nCoctel de camarones - This was pretty much like a cold cocktail of shrimp, crab, and avocado, mixed with what is essentially a cocktail sauce.  I love lump crab meat and I love shrimp, but I didn't come here to eat those things with cocktail sauce.  I can get that for 3.99 anywhere else.  C\\n\\nShrimp mojo - This actually did taste like a fusion dish, though it was a bit heavily sauced.  The shrimp are nice and garlic-y, with a hint of spice from the poblano peppers.  Good, but could have used a side of rice or something.  B-\\n\\nIn a nutshell:  I'd recommend just stopping in and sitting at the counter and ordering some tacos (especially the carnitas ones), and then going somewhere else for dinner.  As a disclaimer, we didn't order the famous \\\"twenty ingredient fried rice\\\" that was featured on food network, but I'm taiwanese, and I just don't feel right paying 20 bucks for fried rice. \n",
            "\n",
            "\u001b[1m4 star rewiew \u001b[0m \n",
            "\n",
            "This is top-rate fast food. I grew up in NC and had no idea this place existed. Apparently they still don't have an internet presence and the only sites with CookOut information are fan sites. Whoa! That's nuts. \\n\\nWe went with the whole family and got tons of food. It was fast and delicious. The cheerwine float was an interesting take on an old classic - and who doesn't love cheerwine? - and the milkshakes are just plain awesome. I tried a peach and a pineapple milkshake and they were both terrific. I'd never hesitate to get the shake here - they're cheap and among the better ones I've ever had (unlike, say, McDonald's, they taste like \\\"real\\\" food).\\n\\nI had a plain chicken sandwich along with a side of slaw and hush puppies. The hush puppies were unremarkable, but the slaw was surprisingly good and the chicken sandwich tasted like a real chicken sandwich. I think what we most liked about CookOut was how genuine the food seems - it's fast food but it doesn't feel processed like the more notable chains.\\n\\nAnd, best of all, we paid about $5 a head for 6 people. It's crazy crazy cheap. And still delicious! \n",
            "\n",
            "\u001b[1m5 star rewiew \u001b[0m \n",
            "\n",
            "This was by far the pinnacle of my dining experiences so far. We ordered the shrimp cocktail, which was very different from the norm but delicious and refreshing with the cucumber cocktail sauce. The shrimp were huge and meaty. We also ordered the American filet and the wellington. My friend likes her steak well done and even at that the filet was cooked so well that you could cut it with a fork. The wellington was delicious. The only thing I would do differently next time is for a light touch on the truffles. We split the mac and cheese as a side and, while it was very different, it was delicious.  The service was stellar. Our waiter Anthony took care of our every need and was so patient and knowledgeable about the menu. This was serious the best dining experience I've ever had. Money well spent and I'm glad I did it. \n",
            "\n"
          ]
        }
      ]
    },
    {
      "cell_type": "code",
      "source": [
        "train_df=train_df.sample(frac=1)"
      ],
      "metadata": {
        "id": "46gNurA3CMdx"
      },
      "execution_count": 18,
      "outputs": []
    },
    {
      "cell_type": "code",
      "source": [
        "train_df.shape"
      ],
      "metadata": {
        "id": "Cm6-YBodWcXy",
        "outputId": "5b674014-b3d1-4137-cf08-a934511b518a",
        "colab": {
          "base_uri": "https://localhost:8080/"
        }
      },
      "execution_count": 19,
      "outputs": [
        {
          "output_type": "execute_result",
          "data": {
            "text/plain": [
              "(32500, 2)"
            ]
          },
          "metadata": {},
          "execution_count": 19
        }
      ]
    },
    {
      "cell_type": "code",
      "source": [
        "train_df=train_df.reset_index()\n",
        "train_df.drop(['index'],axis=1,inplace=True)\n"
      ],
      "metadata": {
        "id": "OTrxnJSwCU7Q"
      },
      "execution_count": 20,
      "outputs": []
    },
    {
      "cell_type": "code",
      "source": [
        "train_df"
      ],
      "metadata": {
        "id": "r8MH5uVOEHI-",
        "outputId": "7c269c74-ee1d-4113-854b-16bd5dfabd73",
        "colab": {
          "base_uri": "https://localhost:8080/",
          "height": 423
        }
      },
      "execution_count": 21,
      "outputs": [
        {
          "output_type": "execute_result",
          "data": {
            "text/plain": [
              "       class_index                                        review_text\n",
              "0                1  Food is ok, but the service is too bad, refer ...\n",
              "1                4  Ok went here for my cheat meal.... Love their ...\n",
              "2                5  This place is the quintessential Jewish steakh...\n",
              "3                4  i lived in san luis obispo for a few months an...\n",
              "4                5  Excellent shrimp Charlotte a gumbo...very cute...\n",
              "...            ...                                                ...\n",
              "32495            4  This is my favorite Chinese restaurant in town...\n",
              "32496            2  Some really outstanding flavors and experiment...\n",
              "32497            5  We grabbed a few drinks at this bar and I am g...\n",
              "32498            4  This place is very good. Great. Just two very ...\n",
              "32499            2  You'll never find me rating a Starbucks lower ...\n",
              "\n",
              "[32500 rows x 2 columns]"
            ],
            "text/html": [
              "\n",
              "  <div id=\"df-588cc9a6-0456-454c-be5c-0d5fc11cbe4a\">\n",
              "    <div class=\"colab-df-container\">\n",
              "      <div>\n",
              "<style scoped>\n",
              "    .dataframe tbody tr th:only-of-type {\n",
              "        vertical-align: middle;\n",
              "    }\n",
              "\n",
              "    .dataframe tbody tr th {\n",
              "        vertical-align: top;\n",
              "    }\n",
              "\n",
              "    .dataframe thead th {\n",
              "        text-align: right;\n",
              "    }\n",
              "</style>\n",
              "<table border=\"1\" class=\"dataframe\">\n",
              "  <thead>\n",
              "    <tr style=\"text-align: right;\">\n",
              "      <th></th>\n",
              "      <th>class_index</th>\n",
              "      <th>review_text</th>\n",
              "    </tr>\n",
              "  </thead>\n",
              "  <tbody>\n",
              "    <tr>\n",
              "      <th>0</th>\n",
              "      <td>1</td>\n",
              "      <td>Food is ok, but the service is too bad, refer ...</td>\n",
              "    </tr>\n",
              "    <tr>\n",
              "      <th>1</th>\n",
              "      <td>4</td>\n",
              "      <td>Ok went here for my cheat meal.... Love their ...</td>\n",
              "    </tr>\n",
              "    <tr>\n",
              "      <th>2</th>\n",
              "      <td>5</td>\n",
              "      <td>This place is the quintessential Jewish steakh...</td>\n",
              "    </tr>\n",
              "    <tr>\n",
              "      <th>3</th>\n",
              "      <td>4</td>\n",
              "      <td>i lived in san luis obispo for a few months an...</td>\n",
              "    </tr>\n",
              "    <tr>\n",
              "      <th>4</th>\n",
              "      <td>5</td>\n",
              "      <td>Excellent shrimp Charlotte a gumbo...very cute...</td>\n",
              "    </tr>\n",
              "    <tr>\n",
              "      <th>...</th>\n",
              "      <td>...</td>\n",
              "      <td>...</td>\n",
              "    </tr>\n",
              "    <tr>\n",
              "      <th>32495</th>\n",
              "      <td>4</td>\n",
              "      <td>This is my favorite Chinese restaurant in town...</td>\n",
              "    </tr>\n",
              "    <tr>\n",
              "      <th>32496</th>\n",
              "      <td>2</td>\n",
              "      <td>Some really outstanding flavors and experiment...</td>\n",
              "    </tr>\n",
              "    <tr>\n",
              "      <th>32497</th>\n",
              "      <td>5</td>\n",
              "      <td>We grabbed a few drinks at this bar and I am g...</td>\n",
              "    </tr>\n",
              "    <tr>\n",
              "      <th>32498</th>\n",
              "      <td>4</td>\n",
              "      <td>This place is very good. Great. Just two very ...</td>\n",
              "    </tr>\n",
              "    <tr>\n",
              "      <th>32499</th>\n",
              "      <td>2</td>\n",
              "      <td>You'll never find me rating a Starbucks lower ...</td>\n",
              "    </tr>\n",
              "  </tbody>\n",
              "</table>\n",
              "<p>32500 rows × 2 columns</p>\n",
              "</div>\n",
              "      <button class=\"colab-df-convert\" onclick=\"convertToInteractive('df-588cc9a6-0456-454c-be5c-0d5fc11cbe4a')\"\n",
              "              title=\"Convert this dataframe to an interactive table.\"\n",
              "              style=\"display:none;\">\n",
              "        \n",
              "  <svg xmlns=\"http://www.w3.org/2000/svg\" height=\"24px\"viewBox=\"0 0 24 24\"\n",
              "       width=\"24px\">\n",
              "    <path d=\"M0 0h24v24H0V0z\" fill=\"none\"/>\n",
              "    <path d=\"M18.56 5.44l.94 2.06.94-2.06 2.06-.94-2.06-.94-.94-2.06-.94 2.06-2.06.94zm-11 1L8.5 8.5l.94-2.06 2.06-.94-2.06-.94L8.5 2.5l-.94 2.06-2.06.94zm10 10l.94 2.06.94-2.06 2.06-.94-2.06-.94-.94-2.06-.94 2.06-2.06.94z\"/><path d=\"M17.41 7.96l-1.37-1.37c-.4-.4-.92-.59-1.43-.59-.52 0-1.04.2-1.43.59L10.3 9.45l-7.72 7.72c-.78.78-.78 2.05 0 2.83L4 21.41c.39.39.9.59 1.41.59.51 0 1.02-.2 1.41-.59l7.78-7.78 2.81-2.81c.8-.78.8-2.07 0-2.86zM5.41 20L4 18.59l7.72-7.72 1.47 1.35L5.41 20z\"/>\n",
              "  </svg>\n",
              "      </button>\n",
              "      \n",
              "  <style>\n",
              "    .colab-df-container {\n",
              "      display:flex;\n",
              "      flex-wrap:wrap;\n",
              "      gap: 12px;\n",
              "    }\n",
              "\n",
              "    .colab-df-convert {\n",
              "      background-color: #E8F0FE;\n",
              "      border: none;\n",
              "      border-radius: 50%;\n",
              "      cursor: pointer;\n",
              "      display: none;\n",
              "      fill: #1967D2;\n",
              "      height: 32px;\n",
              "      padding: 0 0 0 0;\n",
              "      width: 32px;\n",
              "    }\n",
              "\n",
              "    .colab-df-convert:hover {\n",
              "      background-color: #E2EBFA;\n",
              "      box-shadow: 0px 1px 2px rgba(60, 64, 67, 0.3), 0px 1px 3px 1px rgba(60, 64, 67, 0.15);\n",
              "      fill: #174EA6;\n",
              "    }\n",
              "\n",
              "    [theme=dark] .colab-df-convert {\n",
              "      background-color: #3B4455;\n",
              "      fill: #D2E3FC;\n",
              "    }\n",
              "\n",
              "    [theme=dark] .colab-df-convert:hover {\n",
              "      background-color: #434B5C;\n",
              "      box-shadow: 0px 1px 3px 1px rgba(0, 0, 0, 0.15);\n",
              "      filter: drop-shadow(0px 1px 2px rgba(0, 0, 0, 0.3));\n",
              "      fill: #FFFFFF;\n",
              "    }\n",
              "  </style>\n",
              "\n",
              "      <script>\n",
              "        const buttonEl =\n",
              "          document.querySelector('#df-588cc9a6-0456-454c-be5c-0d5fc11cbe4a button.colab-df-convert');\n",
              "        buttonEl.style.display =\n",
              "          google.colab.kernel.accessAllowed ? 'block' : 'none';\n",
              "\n",
              "        async function convertToInteractive(key) {\n",
              "          const element = document.querySelector('#df-588cc9a6-0456-454c-be5c-0d5fc11cbe4a');\n",
              "          const dataTable =\n",
              "            await google.colab.kernel.invokeFunction('convertToInteractive',\n",
              "                                                     [key], {});\n",
              "          if (!dataTable) return;\n",
              "\n",
              "          const docLinkHtml = 'Like what you see? Visit the ' +\n",
              "            '<a target=\"_blank\" href=https://colab.research.google.com/notebooks/data_table.ipynb>data table notebook</a>'\n",
              "            + ' to learn more about interactive tables.';\n",
              "          element.innerHTML = '';\n",
              "          dataTable['output_type'] = 'display_data';\n",
              "          await google.colab.output.renderOutput(dataTable, element);\n",
              "          const docLink = document.createElement('div');\n",
              "          docLink.innerHTML = docLinkHtml;\n",
              "          element.appendChild(docLink);\n",
              "        }\n",
              "      </script>\n",
              "    </div>\n",
              "  </div>\n",
              "  "
            ]
          },
          "metadata": {},
          "execution_count": 21
        }
      ]
    },
    {
      "cell_type": "code",
      "source": [
        "train_df.dtypes"
      ],
      "metadata": {
        "id": "3FOOiX4pXYnl",
        "outputId": "670b7675-62f4-4f88-85b8-f53e6aeb8761",
        "colab": {
          "base_uri": "https://localhost:8080/"
        }
      },
      "execution_count": 22,
      "outputs": [
        {
          "output_type": "execute_result",
          "data": {
            "text/plain": [
              "class_index     int64\n",
              "review_text    object\n",
              "dtype: object"
            ]
          },
          "metadata": {},
          "execution_count": 22
        }
      ]
    },
    {
      "cell_type": "code",
      "source": [
        "#train_df=pd.get_dummies(train_df,columns=['class_index'],drop_first=False)"
      ],
      "metadata": {
        "id": "W3rSK9coOWlU"
      },
      "execution_count": 23,
      "outputs": []
    },
    {
      "cell_type": "code",
      "source": [
        "#train_df"
      ],
      "metadata": {
        "id": "WgzFA-1VY4TD"
      },
      "execution_count": 24,
      "outputs": []
    },
    {
      "cell_type": "code",
      "source": [
        "#train_df.rename(columns={'class_index_1': '1-star','class_index_2': '2-star','class_index_3': '3-star','class_index_4': '4-star','class_index_5': '5-star'},inplace=True)"
      ],
      "metadata": {
        "id": "Pg8oCVuQb6GD"
      },
      "execution_count": 25,
      "outputs": []
    },
    {
      "cell_type": "code",
      "source": [
        "#train_df.columns\n"
      ],
      "metadata": {
        "id": "wjzaGmN-dNmm"
      },
      "execution_count": 26,
      "outputs": []
    },
    {
      "cell_type": "code",
      "source": [
        "#target_list=['1-star', '2-star', '3-star', '4-star', '5-star']"
      ],
      "metadata": {
        "id": "Uv0mJbyVdu3p"
      },
      "execution_count": 27,
      "outputs": []
    },
    {
      "cell_type": "code",
      "source": [
        "#train_df[target_list].values"
      ],
      "metadata": {
        "id": "aDGftFIIeO4H"
      },
      "execution_count": 28,
      "outputs": []
    },
    {
      "cell_type": "code",
      "source": [
        "MAX_LEN = 512\n",
        "TRAIN_BATCH_SIZE = 32\n",
        "VALID_BATCH_SIZE = 32\n",
        "EPOCHS = 2\n",
        "LEARNING_RATE = 1e-05"
      ],
      "metadata": {
        "id": "mnimhprwHJeI"
      },
      "execution_count": 29,
      "outputs": []
    },
    {
      "cell_type": "code",
      "source": [
        "\n",
        "#train_size = 0.8\n",
        "#train_val = train_df.sample(frac=train_size, random_state=200).reset_index(drop=True)\n",
        "#val_df = train_df.drop(train_val.index).reset_index(drop=True)\n",
        "X_train=train_df"
      ],
      "metadata": {
        "id": "bIYjopISFMhQ"
      },
      "execution_count": 30,
      "outputs": []
    },
    {
      "cell_type": "code",
      "source": [
        "X_train.shape"
      ],
      "metadata": {
        "id": "0VvyJfv05_qr",
        "outputId": "7442f20d-64d2-4f82-8ab6-7df7017c7d61",
        "colab": {
          "base_uri": "https://localhost:8080/"
        }
      },
      "execution_count": 31,
      "outputs": [
        {
          "output_type": "execute_result",
          "data": {
            "text/plain": [
              "(32500, 2)"
            ]
          },
          "metadata": {},
          "execution_count": 31
        }
      ]
    },
    {
      "cell_type": "code",
      "source": [
        "tokenizer = DistilBertTokenizerFast.from_pretrained('distilbert-base-uncased')"
      ],
      "metadata": {
        "id": "qws0ZcNQqgWS"
      },
      "execution_count": 32,
      "outputs": []
    },
    {
      "cell_type": "code",
      "source": [
        "X_input_ids=np.zeros((len(X_train),512))\n",
        "X_attention_mask=np.zeros((len(X_train),512))\n",
        "X_token_ids= np.zeros((len(X_train),512))"
      ],
      "metadata": {
        "id": "uFfcW0UG6rXk"
      },
      "execution_count": 33,
      "outputs": []
    },
    {
      "cell_type": "code",
      "source": [
        "X_input_ids.shape"
      ],
      "metadata": {
        "id": "iN5U00cU7qg6",
        "outputId": "ccb60184-fb6f-4d8d-9a41-a0177d50406c",
        "colab": {
          "base_uri": "https://localhost:8080/"
        }
      },
      "execution_count": 34,
      "outputs": [
        {
          "output_type": "execute_result",
          "data": {
            "text/plain": [
              "(32500, 512)"
            ]
          },
          "metadata": {},
          "execution_count": 34
        }
      ]
    },
    {
      "cell_type": "code",
      "source": [
        "def generate_Dataset(df, ids, masks, tok, token):\n",
        "  for i,text in tqdm (enumerate(df['review_text'])):\n",
        "    tokenized_text=tokenizer.encode_plus(\n",
        "    text,\n",
        "    add_special_tokens=True,     \n",
        "    max_length=512, \n",
        "    truncation=True, \n",
        "    padding='max_length', \n",
        "    return_tensors='tf',\n",
        "    return_token_type_ids=True)\n",
        "    ids[i,:] = tokenized_text.input_ids \n",
        "    masks[i,:] = tokenized_text.attention_mask\n",
        "    tok[i,:] =tokenized_text.token_type_ids\n",
        "  return ids,masks,tok\n"
      ],
      "metadata": {
        "id": "Nk4yklgt70_v"
      },
      "execution_count": 35,
      "outputs": []
    },
    {
      "cell_type": "code",
      "metadata": {
        "colab": {
          "base_uri": "https://localhost:8080/",
          "height": 49,
          "referenced_widgets": [
            "08688764d0544fbcbbdf809c370d121e",
            "0778d3b15592487c8f619805c085b22c",
            "7f68b8a3427f4bceb8edb591e2675a8a",
            "12e45023861c46db9c24494cd54808b4",
            "8fab5d2511a146e794f5b136434b8e5b",
            "5b268a377d0a4f6dbea65d75675bc8f9",
            "21fce662dd5241a18a0f65626d2fa325",
            "6903802a1e454279bd5a731a9cd1836b",
            "585a5b1d64bf4051b649219a3a29fde5",
            "f3d370d5078445a89fc42fb87b2888db",
            "a5b6bdc5e87542da9875b452ac914459"
          ]
        },
        "id": "o6Xi-_ffXaJI",
        "outputId": "ee6caf82-4249-4ac1-b59d-e96ac770ed3f"
      },
      "source": [
        "X_input_ids, X_attention_mask, X_token_ids = generate_Dataset(X_train, X_input_ids, X_attention_mask,X_token_ids, tokenizer)"
      ],
      "execution_count": 36,
      "outputs": [
        {
          "output_type": "display_data",
          "data": {
            "text/plain": [
              "0it [00:00, ?it/s]"
            ],
            "application/vnd.jupyter.widget-view+json": {
              "version_major": 2,
              "version_minor": 0,
              "model_id": "08688764d0544fbcbbdf809c370d121e"
            }
          },
          "metadata": {}
        }
      ]
    },
    {
      "cell_type": "code",
      "metadata": {
        "colab": {
          "base_uri": "https://localhost:8080/",
          "height": 206
        },
        "id": "8t8YzDruXaHg",
        "outputId": "91e55d33-33e8-4c55-99c2-eadac60915a0"
      },
      "source": [
        "labels = pd.get_dummies(X_train,columns=['class_index'],drop_first=False)\n",
        "labels.head()"
      ],
      "execution_count": 37,
      "outputs": [
        {
          "output_type": "execute_result",
          "data": {
            "text/plain": [
              "                                         review_text  class_index_1  \\\n",
              "0  Food is ok, but the service is too bad, refer ...              1   \n",
              "1  Ok went here for my cheat meal.... Love their ...              0   \n",
              "2  This place is the quintessential Jewish steakh...              0   \n",
              "3  i lived in san luis obispo for a few months an...              0   \n",
              "4  Excellent shrimp Charlotte a gumbo...very cute...              0   \n",
              "\n",
              "   class_index_2  class_index_3  class_index_4  class_index_5  \n",
              "0              0              0              0              0  \n",
              "1              0              0              1              0  \n",
              "2              0              0              0              1  \n",
              "3              0              0              1              0  \n",
              "4              0              0              0              1  "
            ],
            "text/html": [
              "\n",
              "  <div id=\"df-e5e0ad31-88cf-4402-89fc-34ce213be406\">\n",
              "    <div class=\"colab-df-container\">\n",
              "      <div>\n",
              "<style scoped>\n",
              "    .dataframe tbody tr th:only-of-type {\n",
              "        vertical-align: middle;\n",
              "    }\n",
              "\n",
              "    .dataframe tbody tr th {\n",
              "        vertical-align: top;\n",
              "    }\n",
              "\n",
              "    .dataframe thead th {\n",
              "        text-align: right;\n",
              "    }\n",
              "</style>\n",
              "<table border=\"1\" class=\"dataframe\">\n",
              "  <thead>\n",
              "    <tr style=\"text-align: right;\">\n",
              "      <th></th>\n",
              "      <th>review_text</th>\n",
              "      <th>class_index_1</th>\n",
              "      <th>class_index_2</th>\n",
              "      <th>class_index_3</th>\n",
              "      <th>class_index_4</th>\n",
              "      <th>class_index_5</th>\n",
              "    </tr>\n",
              "  </thead>\n",
              "  <tbody>\n",
              "    <tr>\n",
              "      <th>0</th>\n",
              "      <td>Food is ok, but the service is too bad, refer ...</td>\n",
              "      <td>1</td>\n",
              "      <td>0</td>\n",
              "      <td>0</td>\n",
              "      <td>0</td>\n",
              "      <td>0</td>\n",
              "    </tr>\n",
              "    <tr>\n",
              "      <th>1</th>\n",
              "      <td>Ok went here for my cheat meal.... Love their ...</td>\n",
              "      <td>0</td>\n",
              "      <td>0</td>\n",
              "      <td>0</td>\n",
              "      <td>1</td>\n",
              "      <td>0</td>\n",
              "    </tr>\n",
              "    <tr>\n",
              "      <th>2</th>\n",
              "      <td>This place is the quintessential Jewish steakh...</td>\n",
              "      <td>0</td>\n",
              "      <td>0</td>\n",
              "      <td>0</td>\n",
              "      <td>0</td>\n",
              "      <td>1</td>\n",
              "    </tr>\n",
              "    <tr>\n",
              "      <th>3</th>\n",
              "      <td>i lived in san luis obispo for a few months an...</td>\n",
              "      <td>0</td>\n",
              "      <td>0</td>\n",
              "      <td>0</td>\n",
              "      <td>1</td>\n",
              "      <td>0</td>\n",
              "    </tr>\n",
              "    <tr>\n",
              "      <th>4</th>\n",
              "      <td>Excellent shrimp Charlotte a gumbo...very cute...</td>\n",
              "      <td>0</td>\n",
              "      <td>0</td>\n",
              "      <td>0</td>\n",
              "      <td>0</td>\n",
              "      <td>1</td>\n",
              "    </tr>\n",
              "  </tbody>\n",
              "</table>\n",
              "</div>\n",
              "      <button class=\"colab-df-convert\" onclick=\"convertToInteractive('df-e5e0ad31-88cf-4402-89fc-34ce213be406')\"\n",
              "              title=\"Convert this dataframe to an interactive table.\"\n",
              "              style=\"display:none;\">\n",
              "        \n",
              "  <svg xmlns=\"http://www.w3.org/2000/svg\" height=\"24px\"viewBox=\"0 0 24 24\"\n",
              "       width=\"24px\">\n",
              "    <path d=\"M0 0h24v24H0V0z\" fill=\"none\"/>\n",
              "    <path d=\"M18.56 5.44l.94 2.06.94-2.06 2.06-.94-2.06-.94-.94-2.06-.94 2.06-2.06.94zm-11 1L8.5 8.5l.94-2.06 2.06-.94-2.06-.94L8.5 2.5l-.94 2.06-2.06.94zm10 10l.94 2.06.94-2.06 2.06-.94-2.06-.94-.94-2.06-.94 2.06-2.06.94z\"/><path d=\"M17.41 7.96l-1.37-1.37c-.4-.4-.92-.59-1.43-.59-.52 0-1.04.2-1.43.59L10.3 9.45l-7.72 7.72c-.78.78-.78 2.05 0 2.83L4 21.41c.39.39.9.59 1.41.59.51 0 1.02-.2 1.41-.59l7.78-7.78 2.81-2.81c.8-.78.8-2.07 0-2.86zM5.41 20L4 18.59l7.72-7.72 1.47 1.35L5.41 20z\"/>\n",
              "  </svg>\n",
              "      </button>\n",
              "      \n",
              "  <style>\n",
              "    .colab-df-container {\n",
              "      display:flex;\n",
              "      flex-wrap:wrap;\n",
              "      gap: 12px;\n",
              "    }\n",
              "\n",
              "    .colab-df-convert {\n",
              "      background-color: #E8F0FE;\n",
              "      border: none;\n",
              "      border-radius: 50%;\n",
              "      cursor: pointer;\n",
              "      display: none;\n",
              "      fill: #1967D2;\n",
              "      height: 32px;\n",
              "      padding: 0 0 0 0;\n",
              "      width: 32px;\n",
              "    }\n",
              "\n",
              "    .colab-df-convert:hover {\n",
              "      background-color: #E2EBFA;\n",
              "      box-shadow: 0px 1px 2px rgba(60, 64, 67, 0.3), 0px 1px 3px 1px rgba(60, 64, 67, 0.15);\n",
              "      fill: #174EA6;\n",
              "    }\n",
              "\n",
              "    [theme=dark] .colab-df-convert {\n",
              "      background-color: #3B4455;\n",
              "      fill: #D2E3FC;\n",
              "    }\n",
              "\n",
              "    [theme=dark] .colab-df-convert:hover {\n",
              "      background-color: #434B5C;\n",
              "      box-shadow: 0px 1px 3px 1px rgba(0, 0, 0, 0.15);\n",
              "      filter: drop-shadow(0px 1px 2px rgba(0, 0, 0, 0.3));\n",
              "      fill: #FFFFFF;\n",
              "    }\n",
              "  </style>\n",
              "\n",
              "      <script>\n",
              "        const buttonEl =\n",
              "          document.querySelector('#df-e5e0ad31-88cf-4402-89fc-34ce213be406 button.colab-df-convert');\n",
              "        buttonEl.style.display =\n",
              "          google.colab.kernel.accessAllowed ? 'block' : 'none';\n",
              "\n",
              "        async function convertToInteractive(key) {\n",
              "          const element = document.querySelector('#df-e5e0ad31-88cf-4402-89fc-34ce213be406');\n",
              "          const dataTable =\n",
              "            await google.colab.kernel.invokeFunction('convertToInteractive',\n",
              "                                                     [key], {});\n",
              "          if (!dataTable) return;\n",
              "\n",
              "          const docLinkHtml = 'Like what you see? Visit the ' +\n",
              "            '<a target=\"_blank\" href=https://colab.research.google.com/notebooks/data_table.ipynb>data table notebook</a>'\n",
              "            + ' to learn more about interactive tables.';\n",
              "          element.innerHTML = '';\n",
              "          dataTable['output_type'] = 'display_data';\n",
              "          await google.colab.output.renderOutput(dataTable, element);\n",
              "          const docLink = document.createElement('div');\n",
              "          docLink.innerHTML = docLinkHtml;\n",
              "          element.appendChild(docLink);\n",
              "        }\n",
              "      </script>\n",
              "    </div>\n",
              "  </div>\n",
              "  "
            ]
          },
          "metadata": {},
          "execution_count": 37
        }
      ]
    },
    {
      "cell_type": "code",
      "source": [
        "labels.rename(columns={'class_index_1': '1-star','class_index_2': '2-star','class_index_3': '3-star','class_index_4': '4-star','class_index_5': '5-star'},inplace=True)"
      ],
      "metadata": {
        "id": "iqSdWwg7Aptr"
      },
      "execution_count": 38,
      "outputs": []
    },
    {
      "cell_type": "code",
      "source": [
        "labels.columns"
      ],
      "metadata": {
        "id": "Q9NAoT7eA1Fy",
        "outputId": "fb9b688a-4602-418f-f867-9d6edd9553e3",
        "colab": {
          "base_uri": "https://localhost:8080/"
        }
      },
      "execution_count": 39,
      "outputs": [
        {
          "output_type": "execute_result",
          "data": {
            "text/plain": [
              "Index(['review_text', '1-star', '2-star', '3-star', '4-star', '5-star'], dtype='object')"
            ]
          },
          "metadata": {},
          "execution_count": 39
        }
      ]
    },
    {
      "cell_type": "code",
      "source": [
        "target_list=['1-star', '2-star', '3-star', '4-star', '5-star']"
      ],
      "metadata": {
        "id": "43HoV22qApp7"
      },
      "execution_count": 40,
      "outputs": []
    },
    {
      "cell_type": "code",
      "source": [
        "label_array=np.array(labels[target_list].values).astype('float64')\n",
        "label_array.dtype"
      ],
      "metadata": {
        "id": "s4BXXECIBYte",
        "outputId": "3fe124b7-6914-458f-c590-f5b41f316565",
        "colab": {
          "base_uri": "https://localhost:8080/"
        }
      },
      "execution_count": 41,
      "outputs": [
        {
          "output_type": "execute_result",
          "data": {
            "text/plain": [
              "dtype('float64')"
            ]
          },
          "metadata": {},
          "execution_count": 41
        }
      ]
    },
    {
      "cell_type": "code",
      "source": [
        "X_input_ids.dtype"
      ],
      "metadata": {
        "id": "AnU81CyxCHfp",
        "outputId": "146f3ea7-d49c-45e4-ef01-c9015cb62648",
        "colab": {
          "base_uri": "https://localhost:8080/"
        }
      },
      "execution_count": 42,
      "outputs": [
        {
          "output_type": "execute_result",
          "data": {
            "text/plain": [
              "dtype('float64')"
            ]
          },
          "metadata": {},
          "execution_count": 42
        }
      ]
    },
    {
      "cell_type": "code",
      "metadata": {
        "colab": {
          "base_uri": "https://localhost:8080/"
        },
        "id": "rC61prUQZxaG",
        "outputId": "dca056ef-8fd5-4776-fc1a-fd2e10aeb1f3"
      },
      "source": [
        "# creating a data pipeline using tensorflow dataset utility, and creating batches of data for easy loading...\n",
        "dataset = tf.data.Dataset.from_tensor_slices((X_input_ids, X_attention_mask, X_token_ids, label_array))\n",
        "dataset.take(1) # one sample data"
      ],
      "execution_count": 43,
      "outputs": [
        {
          "output_type": "execute_result",
          "data": {
            "text/plain": [
              "<_TakeDataset element_spec=(TensorSpec(shape=(512,), dtype=tf.float64, name=None), TensorSpec(shape=(512,), dtype=tf.float64, name=None), TensorSpec(shape=(512,), dtype=tf.float64, name=None), TensorSpec(shape=(5,), dtype=tf.float64, name=None))>"
            ]
          },
          "metadata": {},
          "execution_count": 43
        }
      ]
    },
    {
      "cell_type": "code",
      "metadata": {
        "id": "ZeyCO71yZxYY"
      },
      "source": [
        "def RatingDatasetMapFunction(input_ids, attention_mask, token_id, labels):\n",
        "    return {\n",
        "        'input_ids': input_ids,\n",
        "        'attention_mask': attention_mask,\n",
        "        'token_type_ids': token_id\n",
        "    }, labels"
      ],
      "execution_count": 44,
      "outputs": []
    },
    {
      "cell_type": "code",
      "metadata": {
        "id": "Xdp2isCEcrRM"
      },
      "source": [
        "dataset = dataset.map(RatingDatasetMapFunction) # converting to required format for tensorflow dataset "
      ],
      "execution_count": 45,
      "outputs": []
    },
    {
      "cell_type": "code",
      "metadata": {
        "colab": {
          "base_uri": "https://localhost:8080/"
        },
        "id": "GTKHHoDTf_TN",
        "outputId": "9a3eb7e9-4862-4c7a-d57b-ce4a41d4773a"
      },
      "source": [
        "dataset.take(1)"
      ],
      "execution_count": 46,
      "outputs": [
        {
          "output_type": "execute_result",
          "data": {
            "text/plain": [
              "<_TakeDataset element_spec=({'input_ids': TensorSpec(shape=(512,), dtype=tf.float64, name=None), 'attention_mask': TensorSpec(shape=(512,), dtype=tf.float64, name=None), 'token_type_ids': TensorSpec(shape=(512,), dtype=tf.float64, name=None)}, TensorSpec(shape=(5,), dtype=tf.float64, name=None))>"
            ]
          },
          "metadata": {},
          "execution_count": 46
        }
      ]
    },
    {
      "cell_type": "code",
      "metadata": {
        "id": "NEEMyvBSf_QY"
      },
      "source": [
        "dataset = dataset.shuffle(10000).batch(16, drop_remainder=True) # batch size, drop any left out tensor"
      ],
      "execution_count": 47,
      "outputs": []
    },
    {
      "cell_type": "code",
      "metadata": {
        "colab": {
          "base_uri": "https://localhost:8080/"
        },
        "id": "4qdDhISVf_Ny",
        "outputId": "7339928f-e008-41d5-9416-dc59184027bb"
      },
      "source": [
        "dataset.take(1)"
      ],
      "execution_count": 48,
      "outputs": [
        {
          "output_type": "execute_result",
          "data": {
            "text/plain": [
              "<_TakeDataset element_spec=({'input_ids': TensorSpec(shape=(16, 512), dtype=tf.float64, name=None), 'attention_mask': TensorSpec(shape=(16, 512), dtype=tf.float64, name=None), 'token_type_ids': TensorSpec(shape=(16, 512), dtype=tf.float64, name=None)}, TensorSpec(shape=(16, 5), dtype=tf.float64, name=None))>"
            ]
          },
          "metadata": {},
          "execution_count": 48
        }
      ]
    },
    {
      "cell_type": "code",
      "metadata": {
        "id": "ooYVMGf4f_L_"
      },
      "source": [
        "p = 0.8\n",
        "train_size = int((len(X_train)//16)*p) # for each 16 batch of data we will have len(df)//16 samples, take 80% of that for train."
      ],
      "execution_count": 49,
      "outputs": []
    },
    {
      "cell_type": "code",
      "metadata": {
        "colab": {
          "base_uri": "https://localhost:8080/"
        },
        "id": "H5kP15pVh1BB",
        "outputId": "058f1f89-acfb-40fa-c879-71b089b05ea0"
      },
      "source": [
        "train_size"
      ],
      "execution_count": 50,
      "outputs": [
        {
          "output_type": "execute_result",
          "data": {
            "text/plain": [
              "1624"
            ]
          },
          "metadata": {},
          "execution_count": 50
        }
      ]
    },
    {
      "cell_type": "code",
      "metadata": {
        "id": "WFMcf8LYh2CA"
      },
      "source": [
        "train_dataset = dataset.take(train_size)\n",
        "val_dataset = dataset.skip(train_size)"
      ],
      "execution_count": 51,
      "outputs": []
    },
    {
      "cell_type": "markdown",
      "metadata": {
        "id": "fqAvnV3FnSWt"
      },
      "source": [
        "### **Model**"
      ]
    },
    {
      "cell_type": "code",
      "metadata": {
        "id": "T8aGqiBeiVX2"
      },
      "source": [
        "from transformers import TFDistilBertForSequenceClassification"
      ],
      "execution_count": 52,
      "outputs": []
    },
    {
      "cell_type": "code",
      "metadata": {
        "colab": {
          "base_uri": "https://localhost:8080/"
        },
        "id": "eet_Ecyqicit",
        "outputId": "42a75dfa-a701-43b3-96b3-a1aef964bd0b"
      },
      "source": [
        "model = TFDistilBertForSequenceClassification.from_pretrained('distilbert-base-uncased') # bert base model with pretrained weights"
      ],
      "execution_count": 53,
      "outputs": [
        {
          "output_type": "stream",
          "name": "stderr",
          "text": [
            "Some layers from the model checkpoint at distilbert-base-uncased were not used when initializing TFDistilBertForSequenceClassification: ['vocab_layer_norm', 'activation_13', 'vocab_projector', 'vocab_transform']\n",
            "- This IS expected if you are initializing TFDistilBertForSequenceClassification from the checkpoint of a model trained on another task or with another architecture (e.g. initializing a BertForSequenceClassification model from a BertForPreTraining model).\n",
            "- This IS NOT expected if you are initializing TFDistilBertForSequenceClassification from the checkpoint of a model that you expect to be exactly identical (initializing a BertForSequenceClassification model from a BertForSequenceClassification model).\n",
            "Some layers of TFDistilBertForSequenceClassification were not initialized from the model checkpoint at distilbert-base-uncased and are newly initialized: ['classifier', 'dropout_19', 'pre_classifier']\n",
            "You should probably TRAIN this model on a down-stream task to be able to use it for predictions and inference.\n"
          ]
        }
      ]
    },
    {
      "cell_type": "code",
      "source": [
        "!nvidia-smi"
      ],
      "metadata": {
        "id": "VjGeArqhPqH1",
        "outputId": "dd29a857-36cc-4031-efab-e6b1de691bf2",
        "colab": {
          "base_uri": "https://localhost:8080/"
        }
      },
      "execution_count": 54,
      "outputs": [
        {
          "output_type": "stream",
          "name": "stdout",
          "text": [
            "Wed May 10 10:09:20 2023       \n",
            "+-----------------------------------------------------------------------------+\n",
            "| NVIDIA-SMI 525.85.12    Driver Version: 525.85.12    CUDA Version: 12.0     |\n",
            "|-------------------------------+----------------------+----------------------+\n",
            "| GPU  Name        Persistence-M| Bus-Id        Disp.A | Volatile Uncorr. ECC |\n",
            "| Fan  Temp  Perf  Pwr:Usage/Cap|         Memory-Usage | GPU-Util  Compute M. |\n",
            "|                               |                      |               MIG M. |\n",
            "|===============================+======================+======================|\n",
            "|   0  Tesla T4            Off  | 00000000:00:04.0 Off |                    0 |\n",
            "| N/A   67C    P0    31W /  70W |   1591MiB / 15360MiB |      9%      Default |\n",
            "|                               |                      |                  N/A |\n",
            "+-------------------------------+----------------------+----------------------+\n",
            "                                                                               \n",
            "+-----------------------------------------------------------------------------+\n",
            "| Processes:                                                                  |\n",
            "|  GPU   GI   CI        PID   Type   Process name                  GPU Memory |\n",
            "|        ID   ID                                                   Usage      |\n",
            "|=============================================================================|\n",
            "+-----------------------------------------------------------------------------+\n"
          ]
        }
      ]
    },
    {
      "cell_type": "code",
      "source": [
        "import tensorflow as tf\n",
        "\n",
        "print(\"Num GPUs Available: \", len(tf.config.list_physical_devices('GPU')))\n",
        "\n",
        "\n"
      ],
      "metadata": {
        "id": "_YaB05Z5PptZ",
        "outputId": "f3186aa5-2773-47f0-8d4d-425fdf526f58",
        "colab": {
          "base_uri": "https://localhost:8080/"
        }
      },
      "execution_count": 55,
      "outputs": [
        {
          "output_type": "stream",
          "name": "stdout",
          "text": [
            "Num GPUs Available:  1\n"
          ]
        }
      ]
    },
    {
      "cell_type": "code",
      "source": [
        "# Check if GPU is available\n",
        "\n",
        "device=tf.device('GPU') if tf.config.list_physical_devices('GPU') else tf.device('CPU')"
      ],
      "metadata": {
        "id": "0trTboC0Pbl6"
      },
      "execution_count": 56,
      "outputs": []
    },
    {
      "cell_type": "code",
      "source": [
        "device"
      ],
      "metadata": {
        "id": "-0zjhenPVbak",
        "outputId": "c8b0740a-fbd0-4497-bdc6-e477f9c0b6a2",
        "colab": {
          "base_uri": "https://localhost:8080/"
        }
      },
      "execution_count": 57,
      "outputs": [
        {
          "output_type": "execute_result",
          "data": {
            "text/plain": [
              "<tensorflow.python.eager.context._EagerDeviceContext at 0x7fd364fe33c0>"
            ]
          },
          "metadata": {},
          "execution_count": 57
        }
      ]
    },
    {
      "cell_type": "code",
      "metadata": {
        "colab": {
          "base_uri": "https://localhost:8080/"
        },
        "id": "i1PmnsrQjTkr",
        "outputId": "f635a91c-e836-4016-ac1d-5edefa4a759c"
      },
      "source": [
        "# defining 2 input layers for input_ids and attn_masks\n",
        "input_ids = tf.keras.layers.Input(shape=(512,), name='input_ids', dtype='int32')\n",
        "attn_masks = tf.keras.layers.Input(shape=(512,), name='attention_mask', dtype='int32')\n",
        "bert_embds = model.distilbert(input_ids, attention_mask=attn_masks)\n",
        "pooled_output = tf.keras.layers.GlobalAveragePooling1D()(bert_embds[0])\n",
        "# 0 -> activation layer (3D), 1 -> pooled output layer (2D)\n",
        "intermediate_layer = tf.keras.layers.Dense(512, activation='relu', name='intermediate_layer')(pooled_output)\n",
        "output_layer = tf.keras.layers.Dense(5, activation='softmax', name='output_layer')(intermediate_layer) # softmax -> calcs probs of classes\n",
        "\n",
        "Rating_model = tf.keras.Model(inputs=[input_ids, attn_masks], outputs=output_layer)\n",
        "Rating_model.summary()\n",
        "print(bert_embds[0])"
      ],
      "execution_count": 58,
      "outputs": [
        {
          "output_type": "stream",
          "name": "stdout",
          "text": [
            "Model: \"model\"\n",
            "__________________________________________________________________________________________________\n",
            " Layer (type)                   Output Shape         Param #     Connected to                     \n",
            "==================================================================================================\n",
            " input_ids (InputLayer)         [(None, 512)]        0           []                               \n",
            "                                                                                                  \n",
            " attention_mask (InputLayer)    [(None, 512)]        0           []                               \n",
            "                                                                                                  \n",
            " distilbert (TFDistilBertMainLa  TFBaseModelOutput(l  66362880   ['input_ids[0][0]',              \n",
            " yer)                           ast_hidden_state=(N               'attention_mask[0][0]']         \n",
            "                                one, 512, 768),                                                   \n",
            "                                 hidden_states=None                                               \n",
            "                                , attentions=None)                                                \n",
            "                                                                                                  \n",
            " global_average_pooling1d (Glob  (None, 768)         0           ['distilbert[0][0]']             \n",
            " alAveragePooling1D)                                                                              \n",
            "                                                                                                  \n",
            " intermediate_layer (Dense)     (None, 512)          393728      ['global_average_pooling1d[0][0]'\n",
            "                                                                 ]                                \n",
            "                                                                                                  \n",
            " output_layer (Dense)           (None, 5)            2565        ['intermediate_layer[0][0]']     \n",
            "                                                                                                  \n",
            "==================================================================================================\n",
            "Total params: 66,759,173\n",
            "Trainable params: 66,759,173\n",
            "Non-trainable params: 0\n",
            "__________________________________________________________________________________________________\n",
            "KerasTensor(type_spec=TensorSpec(shape=(None, 512, 768), dtype=tf.float32, name=None), name='distilbert/transformer/layer_._5/output_layer_norm/batchnorm/add_1:0', description=\"created by layer 'distilbert'\")\n"
          ]
        }
      ]
    },
    {
      "cell_type": "code",
      "metadata": {
        "id": "u942UCmIjdh8"
      },
      "source": [
        "optim = tf.keras.optimizers.Adam(learning_rate=1e-5,epsilon=1e-7)\n",
        "loss_func = tf.keras.losses.CategoricalCrossentropy()\n",
        "acc = tf.keras.metrics.CategoricalAccuracy('accuracy')"
      ],
      "execution_count": 59,
      "outputs": []
    },
    {
      "cell_type": "code",
      "metadata": {
        "id": "VUeud6qdmTQE"
      },
      "source": [
        "Rating_model.compile(optimizer=optim, loss=loss_func, metrics=[acc])"
      ],
      "execution_count": 60,
      "outputs": []
    },
    {
      "cell_type": "code",
      "metadata": {
        "id": "KH1MVgBpmf_s",
        "outputId": "c85945b1-8424-4837-9c24-6619de7a7602",
        "colab": {
          "base_uri": "https://localhost:8080/"
        }
      },
      "source": [
        "hist = Rating_model.fit(\n",
        "    train_dataset,\n",
        "    validation_data=val_dataset,\n",
        "    epochs=3\n",
        ")"
      ],
      "execution_count": 61,
      "outputs": [
        {
          "output_type": "stream",
          "name": "stdout",
          "text": [
            "Epoch 1/3\n"
          ]
        },
        {
          "output_type": "stream",
          "name": "stderr",
          "text": [
            "/usr/local/lib/python3.10/dist-packages/keras/engine/functional.py:639: UserWarning: Input dict contained keys ['token_type_ids'] which did not match any model input. They will be ignored by the model.\n",
            "  inputs = self._flatten_to_reference_inputs(inputs)\n"
          ]
        },
        {
          "output_type": "stream",
          "name": "stdout",
          "text": [
            "1624/1624 [==============================] - 1766s 1s/step - loss: 0.9780 - accuracy: 0.5656 - val_loss: 0.8389 - val_accuracy: 0.6239\n",
            "Epoch 2/3\n",
            "1624/1624 [==============================] - 1669s 1s/step - loss: 0.8195 - accuracy: 0.6388 - val_loss: 0.7245 - val_accuracy: 0.6989\n",
            "Epoch 3/3\n",
            "1624/1624 [==============================] - 1657s 1s/step - loss: 0.7217 - accuracy: 0.6861 - val_loss: 0.6444 - val_accuracy: 0.7328\n"
          ]
        }
      ]
    },
    {
      "cell_type": "code",
      "metadata": {
        "id": "t-khCjt5mgy9",
        "colab": {
          "base_uri": "https://localhost:8080/"
        },
        "outputId": "77b92cbd-8e51-4938-b497-5ae488af40c8"
      },
      "source": [
        "Rating_model.save('Rating_model')"
      ],
      "execution_count": 64,
      "outputs": [
        {
          "output_type": "stream",
          "name": "stderr",
          "text": [
            "WARNING:tensorflow:Skipping full serialization of Keras layer <keras.layers.regularization.dropout.Dropout object at 0x7fd366202470>, because it is not built.\n",
            "WARNING:tensorflow:Skipping full serialization of Keras layer <keras.layers.regularization.dropout.Dropout object at 0x7fd366105180>, because it is not built.\n",
            "WARNING:tensorflow:Skipping full serialization of Keras layer <keras.layers.regularization.dropout.Dropout object at 0x7fd366107dc0>, because it is not built.\n",
            "WARNING:tensorflow:Skipping full serialization of Keras layer <keras.layers.regularization.dropout.Dropout object at 0x7fd366126a40>, because it is not built.\n",
            "WARNING:tensorflow:Skipping full serialization of Keras layer <keras.layers.regularization.dropout.Dropout object at 0x7fd3661356c0>, because it is not built.\n",
            "WARNING:tensorflow:Skipping full serialization of Keras layer <keras.layers.regularization.dropout.Dropout object at 0x7fd366144340>, because it is not built.\n",
            "WARNING:absl:Found untraced functions such as embeddings_layer_call_fn, embeddings_layer_call_and_return_conditional_losses, transformer_layer_call_fn, transformer_layer_call_and_return_conditional_losses, LayerNorm_layer_call_fn while saving (showing 5 of 164). These functions will not be directly callable after loading.\n"
          ]
        }
      ]
    },
    {
      "cell_type": "markdown",
      "metadata": {
        "id": "V_KLbxpondY0"
      },
      "source": [
        "### **Prediction**"
      ]
    },
    {
      "cell_type": "code",
      "metadata": {
        "id": "71CGQvvsmgvM"
      },
      "source": [
        "Rating_model = tf.keras.models.load_model('/content/drive/MyDrive/Colab Notebooks/Yelp-dataset/Rating_model')\n",
        "\n",
        "tokenizer = DistilBertTokenizerFast.from_pretrained('distilbert-base-uncased')\n",
        "\n",
        "def prepare_data(input_text, tokenizer):\n",
        "    token = tokenizer.encode_plus(\n",
        "        input_text,\n",
        "        max_length=512, \n",
        "        truncation=True, \n",
        "        padding='max_length', \n",
        "        add_special_tokens=True,\n",
        "        return_tensors='tf'\n",
        "    )\n",
        "    return {\n",
        "        'input_ids': tf.cast(token.input_ids, tf.float64),\n",
        "        'attention_mask': tf.cast(token.attention_mask, tf.float64)\n",
        "    }\n",
        "\n",
        "def make_prediction(model, processed_data, classes=target_list):\n",
        "    probs = model.predict(processed_data)[0]\n",
        "    return classes[np.argmax(probs)]"
      ],
      "execution_count": 65,
      "outputs": []
    },
    {
      "cell_type": "code",
      "metadata": {
        "id": "IEUtfSk9mguB",
        "colab": {
          "base_uri": "https://localhost:8080/"
        },
        "outputId": "ae92bea3-425f-4a5b-d7ec-b48f2b22eae3"
      },
      "source": [
        "input_text = input('Enter Restraunt review here: ')\n",
        "processed_data = prepare_data(input_text, tokenizer)\n",
        "result = make_prediction(Rating_model, processed_data=processed_data)\n",
        "print(f\"Predicted Rating: {result}\")"
      ],
      "execution_count": 68,
      "outputs": [
        {
          "output_type": "stream",
          "name": "stdout",
          "text": [
            "Enter Restraunt review here: I will give an average rating. Staff is really helpful\n",
            "1/1 [==============================] - 0s 60ms/step\n",
            "Predicted Sentiment: 3-star\n"
          ]
        }
      ]
    },
    {
      "cell_type": "code",
      "source": [],
      "metadata": {
        "id": "Qc6vFZ58nyjs"
      },
      "execution_count": null,
      "outputs": []
    }
  ]
}